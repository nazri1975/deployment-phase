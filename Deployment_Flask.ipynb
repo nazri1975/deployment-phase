{
 "cells": [
  {
   "cell_type": "code",
   "execution_count": 11,
   "id": "05923048-083d-4ee1-99d1-3a1a15cd6ffb",
   "metadata": {},
   "outputs": [],
   "source": [
    "from flask import Flask, request, jsonify\n",
    "from PIL import Image\n",
    "import torch\n",
    "import torch.nn as nn\n",
    "import torchvision.transforms as transforms\n",
    "\n",
    "app = Flask(__name__)"
   ]
  },
  {
   "cell_type": "code",
   "execution_count": 12,
   "id": "ba43ceaa-4729-4720-af30-2533968810fc",
   "metadata": {},
   "outputs": [],
   "source": [
    "@app.route('/')\n",
    "def form():\n",
    "    return \"\"\"\n",
    "        <html>\n",
    "            <body>\n",
    "                <h1>Image Classification</h1>\n",
    "                </br>\n",
    "                </br>\n",
    "                <p> Insert your image file and then see the Result\n",
    "                <form action=\"/predict\" method=\"post\" enctype=\"multipart/form-data\">\n",
    "                    <input type=\"file\" name=\"image\" class=\"btn btn-block\"/>\n",
    "                    </br>\n",
    "                    </br>\n",
    "                    <button type=\"submit\" class=\"btn btn-primary btn-block btn-large\">Predict</button>\n",
    "                </form>\n",
    "            </body>\n",
    "        </html>\n",
    "    \"\"\""
   ]
  },
  {
   "cell_type": "code",
   "execution_count": 13,
   "id": "120d5c50-03e9-40ab-937c-cd1053753078",
   "metadata": {},
   "outputs": [],
   "source": [
    "# Load the PyTorch model\n",
    "class CNN_Network(nn.Module):\n",
    "    def __init__(self):\n",
    "        super(CNN_Network, self).__init__()\n",
    "        self.conv1 = nn.Conv2d(3, 6, 5)\n",
    "        self.pool = nn.MaxPool2d(2, 2)\n",
    "        self.conv2 = nn.Conv2d(6, 16, 5)\n",
    "        self.fc1 = nn.Linear(16 * 5 * 5, 120)\n",
    "        self.fc2 = nn.Linear(120, 84)\n",
    "        self.fc3 = nn.Linear(84, 10)\n",
    "\n",
    "    def forward(self, x):\n",
    "        x = self.pool(torch.relu(self.conv1(x)))\n",
    "        x = self.pool(torch.relu(self.conv2(x)))\n",
    "        x = x.view(x.size(0), -1)\n",
    "        x = torch.relu(self.fc1(x))\n",
    "        x = torch.relu(self.fc2(x))\n",
    "        x = self.fc3(x)\n",
    "        return x\n",
    "\n",
    "model = CNN_Network()\n",
    "model.load_state_dict(torch.load('CNNModel.pth'))\n",
    "model.eval()\n",
    "\n",
    "# Define a list of classes for classification\n",
    "classes = ['airplane', 'automobile', 'bird', 'cat', 'deer', 'dog', 'frog', 'horse', 'ship', 'truck']"
   ]
  },
  {
   "cell_type": "code",
   "execution_count": 14,
   "id": "e400bd52-1e92-4a97-b299-28847090a281",
   "metadata": {},
   "outputs": [],
   "source": [
    "def preprocess_image(img):\n",
    "    # Define the image preprocessing transformation\n",
    "    transform = transforms.Compose([\n",
    "        transforms.Resize((32, 32)),\n",
    "        transforms.ToTensor(),\n",
    "        transforms.Normalize(mean=[0.485, 0.456, 0.406],\n",
    "                             std=[0.229, 0.224, 0.225])\n",
    "    ])\n",
    "    img_tensor = transform(img)\n",
    "    return img_tensor"
   ]
  },
  {
   "cell_type": "code",
   "execution_count": 15,
   "id": "f0fd7ef1-f070-41d8-859e-dfdaeb8a2078",
   "metadata": {},
   "outputs": [],
   "source": [
    "@app.route('/predict', methods=['POST'])\n",
    "def predict():\n",
    "    # Get the image from the request\n",
    "    file = request.files['image']\n",
    "    img = Image.open(file.stream)\n",
    "\n",
    "    # Preprocess the image\n",
    "    img = preprocess_image(img)\n",
    "\n",
    "    # Predict the class probabilities\n",
    "    with torch.no_grad():\n",
    "        outputs = model(img.unsqueeze(0))\n",
    "        probs = torch.softmax(outputs, dim=1).squeeze()\n",
    "\n",
    "    # Get the predicted class label\n",
    "    _, idx = probs.max(dim=0)\n",
    "    label = classes[idx]\n",
    "\n",
    "    # Return the predicted label and probabilities\n",
    "    return jsonify({\n",
    "        'label': label,\n",
    "        'probs': probs.tolist()\n",
    "    })"
   ]
  },
  {
   "cell_type": "code",
   "execution_count": 16,
   "id": "d3ced163-6a5b-4105-8669-5b65d8c591d5",
   "metadata": {},
   "outputs": [
    {
     "name": "stdout",
     "output_type": "stream",
     "text": [
      " * Serving Flask app '__main__'\n",
      " * Debug mode: off\n"
     ]
    },
    {
     "name": "stderr",
     "output_type": "stream",
     "text": [
      "WARNING: This is a development server. Do not use it in a production deployment. Use a production WSGI server instead.\n",
      " * Running on http://127.0.0.1:5000\n",
      "Press CTRL+C to quit\n",
      "127.0.0.1 - - [23/Mar/2023 20:08:37] \"GET / HTTP/1.1\" 200 -\n",
      "127.0.0.1 - - [23/Mar/2023 20:08:43] \"POST /predict HTTP/1.1\" 200 -\n"
     ]
    }
   ],
   "source": [
    "if (__name__ == \"__main__\"):\n",
    "     app.run(port = 5000, use_reloader=False)"
   ]
  },
  {
   "cell_type": "code",
   "execution_count": null,
   "id": "6488968d-90cb-4990-95bf-5ef7b4a44eff",
   "metadata": {},
   "outputs": [],
   "source": []
  }
 ],
 "metadata": {
  "kernelspec": {
   "display_name": "Python 3 (ipykernel)",
   "language": "python",
   "name": "python3"
  },
  "language_info": {
   "codemirror_mode": {
    "name": "ipython",
    "version": 3
   },
   "file_extension": ".py",
   "mimetype": "text/x-python",
   "name": "python",
   "nbconvert_exporter": "python",
   "pygments_lexer": "ipython3",
   "version": "3.10.9"
  }
 },
 "nbformat": 4,
 "nbformat_minor": 5
}
